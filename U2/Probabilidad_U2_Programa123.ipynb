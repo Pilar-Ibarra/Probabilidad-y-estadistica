{
  "nbformat": 4,
  "nbformat_minor": 0,
  "metadata": {
    "colab": {
      "provenance": [],
      "authorship_tag": "ABX9TyMizyG8b9OYQqPmUsQWp7Zo",
      "include_colab_link": true
    },
    "kernelspec": {
      "name": "python3",
      "display_name": "Python 3"
    },
    "language_info": {
      "name": "python"
    }
  },
  "cells": [
    {
      "cell_type": "markdown",
      "metadata": {
        "id": "view-in-github",
        "colab_type": "text"
      },
      "source": [
        "<a href=\"https://colab.research.google.com/github/Pilar-Ibarra/Probabilidad-y-estadistica/blob/u2/Probabilidad_U2_Programa123.ipynb\" target=\"_parent\"><img src=\"https://colab.research.google.com/assets/colab-badge.svg\" alt=\"Open In Colab\"/></a>"
      ]
    },
    {
      "cell_type": "markdown",
      "source": [
        "# *Probabilidad y estadistica*\n",
        "## Grupo 2 Y\n",
        "## Unidad 2\n",
        "Docente: José Gabriel Rodriguez Rivas\n",
        "Alummno: María del Pilar Ibarra Maya\n",
        "**Practica 1,2, 3: Factorial y permutaciones**"
      ],
      "metadata": {
        "id": "s50TQF3glnpT"
      }
    },
    {
      "cell_type": "code",
      "execution_count": null,
      "metadata": {
        "id": "oeDmQXpJfVWe"
      },
      "outputs": [],
      "source": [
        "import math as mt # Para utilizar factorial\n",
        "from itertools import combinations\n",
        "from itertools import combinations with_replacement\n",
        "import numpy as np\n",
        "nombres = [\"Oscar\", \"Paco\", \"Paty\", \"Laura\", \"Rubén\", \"Luis\", \"Lucy\", \"Alberto\", \"Juan\", \"Danny\"]\n",
        "n = len(nombres)\n",
        "r = 2\n",
        "Cn = mt.factorial(n) / (mt.factorial(r) * mt.factorial(n-r))\n",
        "print(\"Existen \", Cn , \"posibles permutaciones sin repetición del total de\"n, \"nombres\",\"en grupos de \",r,\"en\",r)\n",
        "combinaciones_nombres = list(combinations (nombres, r))\n",
        "print(\"Aquí las combinaciones\")\n",
        "combinaciones_nombres = list(combinations (nombres, r))\n",
        "# Imprime Las combinaciones\n",
        "for combinacion in combinaciones_nombres:\n",
        "print(combinacion)\n",
        "caracteres = [\"A\", \"B”, “C\", \"D\", \"E\", \"E\", \"0\", \"1\", \"2%, \"3\", 4\", \"5\"]\n",
        "n = len(caracteres)\n",
        "r = 10 #¿cómo agrupar?\n",
        "Cn = mt.factorial(n) / (mt.factorial(r) * mt.factorial(n-r))\n",
        "print(\"Existen en posibles combinaciones sin repetición del total de \", n,\"caracteres \",\n",
        "\"en grupos de \", r ,\" en \", r)\"\n",
        "combinaciones_caracteres = list(combinations (caracteres, r))\n",
        "print(\"Aquí las combinaciones\")\n",
        "combinaciones_caracteres = list(combinations (caracteres, r))\n",
        "# Imprime Las combinaciones\n",
        "for combinacion in combinaciones_caracteres:\n",
        "print(combinacion)\n",
        "#dados\n",
        "dado = [1, 2, 3, 4, 5, 6]\n",
        "n = len(dado)\n",
        "r = 2 #como agrupar?, de dos en dos porque hay dos dados\n",
        "CnR = mt.factorial(n+r-1) / (mt.Factorial(r) * mt.factorial((n+r-1)-r))\n",
        "print(\"Existen \", CnR , \" posibles combinaciones con repetición del total de \", n,\"caracteres \", \" en grupos de \", r ,\" en \", r)\n",
        "print(\"Aquí las combinaciones con repetición de dos dados\")\n",
        "#Definir el conjunto de elementos\n",
        "dado = [1, 2, 3, 4, 5, 6]\n",
        "#Número de elementos a elegir en cada combinación\n",
        "r=2\n",
        "# Calcular Las combinaciones con repetición\n",
        "combinaciones dados = list(combinations _with replacement(dado, r))\n",
        "# Imprimir Las combinaciones\n",
        "for combinacion in combinaciones dados:\n",
        "print(combinacion)\n",
        "#Utilizar factorial\n",
        "mt.factorial(7)\n",
        "mt.factorial(4)\n",
        "5040 / 24\n",
        "nombres = [\"a\", \"b\", \"c\", \"d\", \"e\", \"f\", \"g\"]\n",
        "n = len(nombres)\n",
        "r = 3 # ¿cómo agrupar?\n",
        "Cn = mt.factorial(n) / (mt.factorial(r) * mt.factorial(n-r))\n",
        "print(\"Existen \", Cn , \" posibles permutaciones sin repetición del total de \", n,\"nombres \", \"en grupos de \", r ,\" en \", r)\n",
        "combinaciones_nombres = list(combinations (nombres, r))\n",
        "print(\"Aquí las combinaciones\")\n",
        "combinaciones_nombres = list(combinations (nombres, r))\n",
        "# Imprime Las combinaciones\n",
        "for combinacion in combinaciones_nombres:\n",
        "print(combinacion)\n",
        "\n"
      ]
    },
    {
      "cell_type": "markdown",
      "source": [],
      "metadata": {
        "id": "buExBvi1lmXu"
      }
    }
  ]
}
